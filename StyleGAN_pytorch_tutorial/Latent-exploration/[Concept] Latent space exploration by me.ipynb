{
 "cells": [
  {
   "cell_type": "markdown",
   "metadata": {},
   "source": [
    "#### Latent Space Exploration !\n",
    "\n",
    "- Latent variable을 GANs의 input으로 사용해 이미지를 생성할 수 있었다.\n",
    "\n",
    "- 그런데, 만약! 사람 X에 대한 latent space를 안다면 . . . 그 사람에 대해서 style을 바꿔보는 것도 가능하지 않을까?\n",
    "    - 추가로 Latent Space 에서 각 특징별 direction을 안다면 , , , 해당 벡터로 방향만 바꿔주면 원하는 스타일도 얻을 수 있다."
   ]
  },
  {
   "cell_type": "markdown",
   "metadata": {},
   "source": [
    "#### Then how?\n",
    "\n",
    "![nn](img/1.png)"
   ]
  },
  {
   "cell_type": "markdown",
   "metadata": {},
   "source": [
    "#### More precise way!\n",
    "\n",
    "![nn](img/2.png)"
   ]
  }
 ],
 "metadata": {
  "kernelspec": {
   "display_name": "torch",
   "language": "python",
   "name": "torch"
  },
  "language_info": {
   "codemirror_mode": {
    "name": "ipython",
    "version": 3
   },
   "file_extension": ".py",
   "mimetype": "text/x-python",
   "name": "python",
   "nbconvert_exporter": "python",
   "pygments_lexer": "ipython3",
   "version": "3.7.7"
  }
 },
 "nbformat": 4,
 "nbformat_minor": 2
}
