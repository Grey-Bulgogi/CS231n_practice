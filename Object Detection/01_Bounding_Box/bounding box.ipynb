{
 "cells": [
  {
   "cell_type": "markdown",
   "metadata": {},
   "source": [
    "# BB regression\n",
    "## Custom dataset"
   ]
  },
  {
   "cell_type": "markdown",
   "metadata": {},
   "source": [
    "https://towardsdatascience.com/getting-started-with-bounding-box-regression-in-tensorflow-743e22d0ccb3"
   ]
  },
  {
   "cell_type": "markdown",
   "metadata": {},
   "source": [
    "### loading"
   ]
  },
  {
   "cell_type": "code",
   "execution_count": 23,
   "metadata": {},
   "outputs": [],
   "source": [
    "import os\n",
    "import glob\n",
    "import numpy as np\n",
    "\n",
    "from PIL import Image, ImageDraw\n",
    "\n",
    "\n",
    "input_dim = 228\n",
    "\n",
    "images = []\n",
    "image_paths = glob.glob('training_images/*.jpg')"
   ]
  },
  {
   "cell_type": "code",
   "execution_count": 24,
   "metadata": {},
   "outputs": [],
   "source": [
    "for imagefile in image_paths:\n",
    "    image = Image.open(imagefile).resize((input_dim, input_dim))\n",
    "    image = np.asarray(image) / 255.0\n",
    "    images.append(image)"
   ]
  },
  {
   "cell_type": "markdown",
   "metadata": {},
   "source": [
    "### process the XML annotations\n",
    "- the annotations are in PASCAL-VOC format # what is it;\n",
    "- use the ```xmltodict``` package to transform the XML files to a dict\n",
    "\n",
    "\n",
    "\n",
    "- 아 미리 labelIMG를 통해서 xml 파일을 만든 후, 불러오는 거구나"
   ]
  },
  {
   "cell_type": "markdown",
   "metadata": {},
   "source": [
    "- bboxse: bounding box가 있는 위치\n",
    "- classes_raw: 해당 이미지의 클래스"
   ]
  },
  {
   "cell_type": "code",
   "execution_count": 62,
   "metadata": {
    "scrolled": true
   },
   "outputs": [],
   "source": [
    "import xmltodict\n",
    "import os\n",
    "\n",
    "bboxes = []\n",
    "classes_raw = []\n",
    "annotations_paths = glob.glob('training_images/*.xml')\n",
    "for xmlfile in annotations_paths:\n",
    "    x = xmltodict.parse( open( xmlfile , 'rb' ) )\n",
    "    bndbox = x[ 'annotation' ][ 'object'][ 'bndbox' ]\n",
    "    bndbox = np.array([ int(bndbox[ 'xmin' ]), int(bndbox[ 'ymin']), int(bndbox[ 'xmax']), int(bndbox[ 'ymax']) ])\n",
    "                                    # dictionary에 xmin이라는 키값에 값이 string형태로 저장되어있음.\n",
    "    bndbox2 = [ None ] * 4\n",
    "    bndbox2[0] = bndbox[0]\n",
    "    bndbox2[1] = bndbox[1]\n",
    "    bndbox2[2] = bndbox[2]\n",
    "    bndbox2[3] = bndbox[3]\n",
    "    bndbox2 = np.array( bndbox2 ) / input_dim\n",
    "    bboxes.append( bndbox2 )\n",
    "    classes_raw.append( x[ 'annotation' ][ 'object' ][ 'name' ])"
   ]
  },
  {
   "cell_type": "markdown",
   "metadata": {},
   "source": [
    "### bboxes 와 classes_raw 변수를 하나로 합쳐서 Final training & testing dataset 생성"
   ]
  },
  {
   "cell_type": "markdown",
   "metadata": {},
   "source": [
    "- Label: 크기(vector7), [x_min, y_min, x_max, y_max, one_hot_encoding(3) ]"
   ]
  },
  {
   "cell_type": "code",
   "execution_count": 69,
   "metadata": {
    "scrolled": true
   },
   "outputs": [
    {
     "data": {
      "text/plain": [
       "array([0.10087719, 0.18421053, 0.90350877, 0.87280702, 1.        ,\n",
       "       0.        , 0.        ])"
      ]
     },
     "execution_count": 69,
     "metadata": {},
     "output_type": "execute_result"
    }
   ],
   "source": [
    "Y[0]"
   ]
  },
  {
   "cell_type": "code",
   "execution_count": 65,
   "metadata": {},
   "outputs": [],
   "source": [
    "from sklearn.preprocessing import LabelBinarizer\n",
    "from sklearn.model_selection import train_test_split\n",
    "\n",
    "boxes = np.array( bboxes )\n",
    "encoder = LabelBinarizer()\n",
    "classes_onehot = encoder.fit_transform( classes_raw )\n",
    "\n",
    "Y = np.concatenate( [boxes, classes_onehot ], axis=1)\n",
    "X = np.array( images )\n",
    "\n",
    "x_train, x_test, y_train, y_test = train_test_split( X, Y, test_size= 0.1)"
   ]
  },
  {
   "attachments": {
    "image.png": {
     "image/png": "[encoded data removed]"
    }
   },
   "cell_type": "markdown",
   "metadata": {},
   "source": [
    "### Creating Keras model\n",
    "\n",
    "##### 모델을 만들기 전에 . . .\n",
    "- custom loss 함수와 평가 지표를 정의해준다.\n",
    "- loss function은 MSE와 IOU 을 사용한다.\n",
    "- 평가지표 또한 IOU score를 accuracy로 사용한다.\n",
    "\n",
    "$$ L(x, x') = MSE(x, x') + (1 - IOU(x, x')) $$\n",
    "\n",
    "- IOU\n",
    "\n",
    "![image.png](attachment:image.png)\n",
    "- 저자가 예시로 만들어낸 로스함수이다.\n"
   ]
  },
  {
   "cell_type": "code",
   "execution_count": 78,
   "metadata": {},
   "outputs": [],
   "source": [
    "import tensorflow as tf\n",
    "import tensorflow.keras as keras\n",
    "import tensorflow.keras.backend as K"
   ]
  },
  {
   "cell_type": "code",
   "execution_count": 164,
   "metadata": {},
   "outputs": [],
   "source": [
    "input_shape = (input_dim, input_dim, 3)\n",
    "dropout_rate = 0.5\n",
    "alpha = 0.2\n",
    "\n",
    "def calculate_iou( target_boxes, pred_boxes ): \n",
    "    xA = K.maximum( target_boxes[ ..., 0], pred_boxes[ ..., 0])  # x_min\n",
    "    yA = K.maximum( target_boxes[ ..., 1], pred_boxes[ ..., 1])  # y_min\n",
    "    xB = K.minimum( target_boxes[ ..., 2], pred_boxes[ ..., 2])  # x_max\n",
    "    yB = K.minimum( target_boxes[ ..., 3], pred_boxes[ ..., 3])  # y_max\n",
    "            \n",
    "    interArea = K.maximum( 0.0, xB - xA) * K.maximum( 0.0, yB - yA)\n",
    "    \n",
    "    # boxA 가 실제 label boxB 가 예측된 label\n",
    "    boxAArea = (target_boxes[ ..., 2] - target_boxes[ ..., 0]) * (target_boxes[ ... , 3] - target_boxes[ ... , 1])\n",
    "    boxBArea = (pred_boxes[ ... , 2] - pred_boxes[ ... , 0]) * (pred_boxes[ ... , 3] - pred_boxes[ ... , 1])\n",
    "    \n",
    "    # x와 x'의 공집합이 두번 더해지니까 하나 빼주기.\n",
    "    iou = interArea / (boxAArea + boxBArea - interArea)\n",
    "    \n",
    "    return iou\n",
    "\n",
    "def custom_loss( y_true, y_pred ):\n",
    "    mse = tf.losses.mean_squared_error( y_true, y_pred )\n",
    "    iou = calculate_iou( y_true, y_pred )\n",
    "    return mse + ( 1 - iou )  # 겹쳐지면 겹쳐질수록 loss가 줄어든다 !\n",
    "\n",
    "# score metric?\n",
    "def iou_metric( y_true, y_pred ):\n",
    "    return calculate_iou( y_true, y_pred )"
   ]
  },
  {
   "cell_type": "code",
   "execution_count": 165,
   "metadata": {
    "scrolled": true
   },
   "outputs": [
    {
     "name": "stdout",
     "output_type": "stream",
     "text": [
      "[[0.11073848 0.16060784 0.7712057  0.69288087 0.21294107 0.28534427\n",
      "  0.26936674]]\n",
      "==============\n",
      "[0.24122807 0.20175439 0.63157895 0.93859649 0.         0.\n",
      " 1.        ]\n",
      "==============\n"
     ]
    },
    {
     "data": {
      "text/plain": [
       "<tf.Tensor: id=16391, shape=(1,), dtype=float64, numpy=array([0.42844017])>"
      ]
     },
     "execution_count": 165,
     "metadata": {},
     "output_type": "execute_result"
    }
   ],
   "source": [
    "y_pred = model.predict(np.expand_dims(x_test[7], 0))\n",
    "y_true = y_test[7]\n",
    "\n",
    "print(y_pred)\n",
    "print('==============')\n",
    "print(y_true)\n",
    "print('==============')\n",
    "\n",
    "calculate_iou(y_true, y_pred)"
   ]
  },
  {
   "cell_type": "markdown",
   "metadata": {},
   "source": [
    "### craete CNN model\n",
    "\n",
    "- conv2D layer 쌓은다음, flatten"
   ]
  },
  {
   "cell_type": "code",
   "execution_count": 81,
   "metadata": {},
   "outputs": [],
   "source": [
    "num_classes = 3\n",
    "pred_vector_length = 4 + num_classes\n",
    "\n",
    "model_layers = [       \n",
    "    keras.layers.Conv2D(16, kernel_size=(3, 3), strides=1, input_shape=input_shape),\n",
    "    keras.layers.LeakyReLU( alpha=alpha ) ,\n",
    "    keras.layers.Conv2D(16, kernel_size=(3, 3), strides=1 ),\n",
    "    keras.layers.LeakyReLU( alpha=alpha ) ,\n",
    "    keras.layers.MaxPooling2D( pool_size=( 2 , 2 ) ),\n",
    "\n",
    "    keras.layers.Conv2D(32, kernel_size=(3, 3), strides=1),\n",
    "    keras.layers.LeakyReLU( alpha=alpha ) ,\n",
    "    keras.layers.Conv2D(32, kernel_size=(3, 3), strides=1),\n",
    "    keras.layers.LeakyReLU( alpha=alpha ) ,\n",
    "    keras.layers.MaxPooling2D( pool_size=( 2 , 2 ) ),\n",
    "\n",
    "    keras.layers.Conv2D(64, kernel_size=(3, 3), strides=1),\n",
    "    keras.layers.LeakyReLU( alpha=alpha ) ,\n",
    "    keras.layers.Conv2D(64, kernel_size=(3, 3), strides=1),\n",
    "    keras.layers.LeakyReLU( alpha=alpha ) ,\n",
    "    keras.layers.MaxPooling2D( pool_size=( 2 , 2 ) ),\n",
    "\n",
    "    keras.layers.Conv2D(128, kernel_size=(3, 3), strides=1),\n",
    "    keras.layers.LeakyReLU( alpha=alpha ) ,\n",
    "    keras.layers.Conv2D(128, kernel_size=(3, 3), strides=1),\n",
    "    keras.layers.LeakyReLU( alpha=alpha ) ,\n",
    "    keras.layers.MaxPooling2D( pool_size=( 2 , 2 ) ),\n",
    "\n",
    "    keras.layers.Conv2D(256, kernel_size=(3, 3), strides=1),\n",
    "    keras.layers.LeakyReLU( alpha=alpha ) ,\n",
    "    keras.layers.Conv2D(256, kernel_size=(3, 3), strides=1),\n",
    "    keras.layers.LeakyReLU( alpha=alpha ) ,\n",
    "    keras.layers.MaxPooling2D( pool_size=( 2 , 2 ) ),\n",
    "\n",
    "    keras.layers.Flatten() , \n",
    "\n",
    "    keras.layers.Dense( 1240 ) , \n",
    "    keras.layers.LeakyReLU( alpha=alpha ) ,\n",
    "    keras.layers.Dense( 640 ) , \n",
    "    keras.layers.LeakyReLU( alpha=alpha ) ,\n",
    "    keras.layers.Dense( 480 ) , \n",
    "    keras.layers.LeakyReLU( alpha=alpha ) ,\n",
    "    keras.layers.Dense( 120 ) , \n",
    "    keras.layers.LeakyReLU( alpha=alpha ) ,\n",
    "    keras.layers.Dense( 62 ) , \n",
    "    keras.layers.LeakyReLU( alpha=alpha ) ,\n",
    "\n",
    "    keras.layers.Dense( pred_vector_length ),\n",
    "    keras.layers.LeakyReLU( alpha=alpha ) ,\n",
    "]\n",
    "\n",
    "model = keras.Sequential( model_layers )\n",
    "model.compile(\n",
    "            optimizer = keras.optimizers.Adam( lr=0.0001 ),\n",
    "            loss = custom_loss,\n",
    "            metrics = [ iou_metric ])"
   ]
  },
  {
   "cell_type": "code",
   "execution_count": 95,
   "metadata": {},
   "outputs": [
    {
     "name": "stdout",
     "output_type": "stream",
     "text": [
      "Model: \"sequential\"\n",
      "_________________________________________________________________\n",
      "Layer (type)                 Output Shape              Param #   \n",
      "=================================================================\n",
      "conv2d_20 (Conv2D)           (None, 226, 226, 16)      448       \n",
      "_________________________________________________________________\n",
      "leaky_re_lu_32 (LeakyReLU)   (None, 226, 226, 16)      0         \n",
      "_________________________________________________________________\n",
      "conv2d_21 (Conv2D)           (None, 224, 224, 16)      2320      \n",
      "_________________________________________________________________\n",
      "leaky_re_lu_33 (LeakyReLU)   (None, 224, 224, 16)      0         \n",
      "_________________________________________________________________\n",
      "max_pooling2d_10 (MaxPooling (None, 112, 112, 16)      0         \n",
      "_________________________________________________________________\n",
      "conv2d_22 (Conv2D)           (None, 110, 110, 32)      4640      \n",
      "_________________________________________________________________\n",
      "leaky_re_lu_34 (LeakyReLU)   (None, 110, 110, 32)      0         \n",
      "_________________________________________________________________\n",
      "conv2d_23 (Conv2D)           (None, 108, 108, 32)      9248      \n",
      "_________________________________________________________________\n",
      "leaky_re_lu_35 (LeakyReLU)   (None, 108, 108, 32)      0         \n",
      "_________________________________________________________________\n",
      "max_pooling2d_11 (MaxPooling (None, 54, 54, 32)        0         \n",
      "_________________________________________________________________\n",
      "conv2d_24 (Conv2D)           (None, 52, 52, 64)        18496     \n",
      "_________________________________________________________________\n",
      "leaky_re_lu_36 (LeakyReLU)   (None, 52, 52, 64)        0         \n",
      "_________________________________________________________________\n",
      "conv2d_25 (Conv2D)           (None, 50, 50, 64)        36928     \n",
      "_________________________________________________________________\n",
      "leaky_re_lu_37 (LeakyReLU)   (None, 50, 50, 64)        0         \n",
      "_________________________________________________________________\n",
      "max_pooling2d_12 (MaxPooling (None, 25, 25, 64)        0         \n",
      "_________________________________________________________________\n",
      "conv2d_26 (Conv2D)           (None, 23, 23, 128)       73856     \n",
      "_________________________________________________________________\n",
      "leaky_re_lu_38 (LeakyReLU)   (None, 23, 23, 128)       0         \n",
      "_________________________________________________________________\n",
      "conv2d_27 (Conv2D)           (None, 21, 21, 128)       147584    \n",
      "_________________________________________________________________\n",
      "leaky_re_lu_39 (LeakyReLU)   (None, 21, 21, 128)       0         \n",
      "_________________________________________________________________\n",
      "max_pooling2d_13 (MaxPooling (None, 10, 10, 128)       0         \n",
      "_________________________________________________________________\n",
      "conv2d_28 (Conv2D)           (None, 8, 8, 256)         295168    \n",
      "_________________________________________________________________\n",
      "leaky_re_lu_40 (LeakyReLU)   (None, 8, 8, 256)         0         \n",
      "_________________________________________________________________\n",
      "conv2d_29 (Conv2D)           (None, 6, 6, 256)         590080    \n",
      "_________________________________________________________________\n",
      "leaky_re_lu_41 (LeakyReLU)   (None, 6, 6, 256)         0         \n",
      "_________________________________________________________________\n",
      "max_pooling2d_14 (MaxPooling (None, 3, 3, 256)         0         \n",
      "_________________________________________________________________\n",
      "flatten_2 (Flatten)          (None, 2304)              0         \n",
      "_________________________________________________________________\n",
      "dense_12 (Dense)             (None, 1240)              2858200   \n",
      "_________________________________________________________________\n",
      "leaky_re_lu_42 (LeakyReLU)   (None, 1240)              0         \n",
      "_________________________________________________________________\n",
      "dense_13 (Dense)             (None, 640)               794240    \n",
      "_________________________________________________________________\n",
      "leaky_re_lu_43 (LeakyReLU)   (None, 640)               0         \n",
      "_________________________________________________________________\n",
      "dense_14 (Dense)             (None, 480)               307680    \n",
      "_________________________________________________________________\n",
      "leaky_re_lu_44 (LeakyReLU)   (None, 480)               0         \n",
      "_________________________________________________________________\n",
      "dense_15 (Dense)             (None, 120)               57720     \n",
      "_________________________________________________________________\n",
      "leaky_re_lu_45 (LeakyReLU)   (None, 120)               0         \n",
      "_________________________________________________________________\n",
      "dense_16 (Dense)             (None, 62)                7502      \n",
      "_________________________________________________________________\n",
      "leaky_re_lu_46 (LeakyReLU)   (None, 62)                0         \n",
      "_________________________________________________________________\n",
      "dense_17 (Dense)             (None, 7)                 441       \n",
      "_________________________________________________________________\n",
      "leaky_re_lu_47 (LeakyReLU)   (None, 7)                 0         \n",
      "=================================================================\n",
      "Total params: 5,204,551\n",
      "Trainable params: 5,204,551\n",
      "Non-trainable params: 0\n",
      "_________________________________________________________________\n"
     ]
    }
   ],
   "source": [
    "model.summary()"
   ]
  },
  {
   "cell_type": "markdown",
   "metadata": {},
   "source": [
    "### Training the model"
   ]
  },
  {
   "cell_type": "code",
   "execution_count": 84,
   "metadata": {
    "collapsed": true
   },
   "outputs": [
    {
     "name": "stdout",
     "output_type": "stream",
     "text": [
      "Train on 167 samples, validate on 19 samples\n",
      "Epoch 1/50\n",
      "167/167 [==============================] - 25s 147ms/sample - loss: 0.6415 - iou_metric: 0.4735 - val_loss: 0.6287 - val_iou_metric: 0.4844\n",
      "Epoch 2/50\n",
      "167/167 [==============================] - 23s 136ms/sample - loss: 0.5670 - iou_metric: 0.5393 - val_loss: 0.4706 - val_iou_metric: 0.6319\n",
      "Epoch 3/50\n",
      "167/167 [==============================] - 23s 137ms/sample - loss: 0.5472 - iou_metric: 0.5579 - val_loss: 0.5167 - val_iou_metric: 0.5865\n",
      "Epoch 4/50\n",
      "167/167 [==============================] - 22s 134ms/sample - loss: 0.5488 - iou_metric: 0.5562 - val_loss: 0.5716 - val_iou_metric: 0.5377\n",
      "Epoch 5/50\n",
      "167/167 [==============================] - 23s 137ms/sample - loss: 0.5375 - iou_metric: 0.5665 - val_loss: 0.5032 - val_iou_metric: 0.5987\n",
      "Epoch 6/50\n",
      "167/167 [==============================] - 34s 203ms/sample - loss: 0.5643 - iou_metric: 0.5422 - val_loss: 0.4606 - val_iou_metric: 0.6391\n",
      "Epoch 7/50\n",
      "167/167 [==============================] - 25s 151ms/sample - loss: 0.5334 - iou_metric: 0.5703 - val_loss: 0.4851 - val_iou_metric: 0.6159\n",
      "Epoch 8/50\n",
      "167/167 [==============================] - 23s 136ms/sample - loss: 0.5130 - iou_metric: 0.5896 - val_loss: 0.4474 - val_iou_metric: 0.6453\n",
      "Epoch 9/50\n",
      "167/167 [==============================] - 23s 136ms/sample - loss: 0.5109 - iou_metric: 0.5909 - val_loss: 0.4497 - val_iou_metric: 0.6455\n",
      "Epoch 10/50\n",
      "167/167 [==============================] - 23s 135ms/sample - loss: 0.5105 - iou_metric: 0.5891 - val_loss: 0.4762 - val_iou_metric: 0.6139\n",
      "Epoch 11/50\n",
      "167/167 [==============================] - 23s 136ms/sample - loss: 0.4824 - iou_metric: 0.6128 - val_loss: 0.4432 - val_iou_metric: 0.6465\n",
      "Epoch 12/50\n",
      "167/167 [==============================] - 23s 137ms/sample - loss: 0.4632 - iou_metric: 0.6262 - val_loss: 0.4486 - val_iou_metric: 0.6326\n",
      "Epoch 13/50\n",
      "167/167 [==============================] - 23s 138ms/sample - loss: 0.4511 - iou_metric: 0.6329 - val_loss: 0.5001 - val_iou_metric: 0.5887\n",
      "Epoch 14/50\n",
      "167/167 [==============================] - 23s 138ms/sample - loss: 0.4327 - iou_metric: 0.6463 - val_loss: 0.4386 - val_iou_metric: 0.6301\n",
      "Epoch 15/50\n",
      "167/167 [==============================] - 23s 137ms/sample - loss: 0.4329 - iou_metric: 0.6401 - val_loss: 0.4360 - val_iou_metric: 0.6359\n",
      "Epoch 16/50\n",
      "167/167 [==============================] - 23s 137ms/sample - loss: 0.4179 - iou_metric: 0.6540 - val_loss: 0.3974 - val_iou_metric: 0.6735\n",
      "Epoch 17/50\n",
      "167/167 [==============================] - 26s 156ms/sample - loss: 0.4073 - iou_metric: 0.6590 - val_loss: 0.4408 - val_iou_metric: 0.6319\n",
      "Epoch 18/50\n",
      "167/167 [==============================] - 34s 207ms/sample - loss: 0.4193 - iou_metric: 0.6448 - val_loss: 0.4289 - val_iou_metric: 0.6350\n",
      "Epoch 19/50\n",
      "167/167 [==============================] - 28s 166ms/sample - loss: 0.3983 - iou_metric: 0.6617 - val_loss: 0.4342 - val_iou_metric: 0.6266\n",
      "Epoch 20/50\n",
      "167/167 [==============================] - 34s 204ms/sample - loss: 0.3776 - iou_metric: 0.6758 - val_loss: 0.4003 - val_iou_metric: 0.6536\n",
      "Epoch 21/50\n",
      "167/167 [==============================] - 28s 168ms/sample - loss: 0.3766 - iou_metric: 0.6775 - val_loss: 0.4129 - val_iou_metric: 0.6498\n",
      "Epoch 22/50\n",
      "167/167 [==============================] - 25s 150ms/sample - loss: 0.3741 - iou_metric: 0.6755 - val_loss: 0.3770 - val_iou_metric: 0.6765\n",
      "Epoch 23/50\n",
      "167/167 [==============================] - 27s 159ms/sample - loss: 0.3775 - iou_metric: 0.6727 - val_loss: 0.3594 - val_iou_metric: 0.6866\n",
      "Epoch 24/50\n",
      "167/167 [==============================] - 28s 165ms/sample - loss: 0.3548 - iou_metric: 0.6948 - val_loss: 0.3561 - val_iou_metric: 0.6897\n",
      "Epoch 25/50\n",
      "167/167 [==============================] - 25s 149ms/sample - loss: 0.3363 - iou_metric: 0.7054 - val_loss: 0.3929 - val_iou_metric: 0.6622\n",
      "Epoch 26/50\n",
      "167/167 [==============================] - 28s 170ms/sample - loss: 0.3683 - iou_metric: 0.6818 - val_loss: 0.3328 - val_iou_metric: 0.7113\n",
      "Epoch 27/50\n",
      "167/167 [==============================] - 27s 161ms/sample - loss: 0.3518 - iou_metric: 0.6880 - val_loss: 0.3413 - val_iou_metric: 0.7008\n",
      "Epoch 28/50\n",
      "167/167 [==============================] - 27s 159ms/sample - loss: 0.3274 - iou_metric: 0.7109 - val_loss: 0.3897 - val_iou_metric: 0.6562\n",
      "Epoch 29/50\n",
      "167/167 [==============================] - 27s 163ms/sample - loss: 0.3765 - iou_metric: 0.6753 - val_loss: 0.3555 - val_iou_metric: 0.6997\n",
      "Epoch 30/50\n",
      "167/167 [==============================] - 26s 153ms/sample - loss: 0.3180 - iou_metric: 0.7236 - val_loss: 0.3651 - val_iou_metric: 0.6824\n",
      "Epoch 31/50\n",
      "167/167 [==============================] - 25s 148ms/sample - loss: 0.3046 - iou_metric: 0.7303 - val_loss: 0.3318 - val_iou_metric: 0.7118\n",
      "Epoch 32/50\n",
      "167/167 [==============================] - 24s 141ms/sample - loss: 0.3036 - iou_metric: 0.7273 - val_loss: 0.3799 - val_iou_metric: 0.6668\n",
      "Epoch 33/50\n",
      "167/167 [==============================] - 26s 153ms/sample - loss: 0.3142 - iou_metric: 0.7162 - val_loss: 0.3328 - val_iou_metric: 0.7081\n",
      "Epoch 34/50\n",
      "167/167 [==============================] - 27s 163ms/sample - loss: 0.2841 - iou_metric: 0.7432 - val_loss: 0.3814 - val_iou_metric: 0.6663\n",
      "Epoch 35/50\n",
      "167/167 [==============================] - 25s 151ms/sample - loss: 0.2887 - iou_metric: 0.7356 - val_loss: 0.3673 - val_iou_metric: 0.6696\n",
      "Epoch 36/50\n",
      "167/167 [==============================] - 23s 139ms/sample - loss: 0.2738 - iou_metric: 0.7477 - val_loss: 0.3509 - val_iou_metric: 0.6869\n",
      "Epoch 37/50\n",
      "167/167 [==============================] - 23s 137ms/sample - loss: 0.2658 - iou_metric: 0.7571 - val_loss: 0.3435 - val_iou_metric: 0.6949\n",
      "Epoch 38/50\n",
      "167/167 [==============================] - 26s 158ms/sample - loss: 0.2728 - iou_metric: 0.7489 - val_loss: 0.3222 - val_iou_metric: 0.7109\n",
      "Epoch 39/50\n",
      "167/167 [==============================] - 28s 169ms/sample - loss: 0.2546 - iou_metric: 0.7656 - val_loss: 0.3168 - val_iou_metric: 0.7104\n",
      "Epoch 40/50\n",
      "167/167 [==============================] - 26s 154ms/sample - loss: 0.2636 - iou_metric: 0.7525 - val_loss: 0.3264 - val_iou_metric: 0.7053\n",
      "Epoch 41/50\n",
      "167/167 [==============================] - 26s 153ms/sample - loss: 0.2619 - iou_metric: 0.7529 - val_loss: 0.3545 - val_iou_metric: 0.6923\n",
      "Epoch 42/50\n",
      "167/167 [==============================] - 24s 146ms/sample - loss: 0.2509 - iou_metric: 0.7675 - val_loss: 0.3163 - val_iou_metric: 0.7105\n",
      "Epoch 43/50\n",
      "167/167 [==============================] - 23s 136ms/sample - loss: 0.2458 - iou_metric: 0.7679 - val_loss: 0.2996 - val_iou_metric: 0.7293\n",
      "Epoch 44/50\n",
      "167/167 [==============================] - 32s 191ms/sample - loss: 0.2409 - iou_metric: 0.7738 - val_loss: 0.3271 - val_iou_metric: 0.6985\n",
      "Epoch 45/50\n",
      "167/167 [==============================] - 30s 182ms/sample - loss: 0.2530 - iou_metric: 0.7600 - val_loss: 0.3465 - val_iou_metric: 0.6852\n",
      "Epoch 46/50\n",
      "167/167 [==============================] - 32s 191ms/sample - loss: 0.2405 - iou_metric: 0.7737 - val_loss: 0.2959 - val_iou_metric: 0.7300\n",
      "Epoch 47/50\n",
      "167/167 [==============================] - 35s 212ms/sample - loss: 0.2302 - iou_metric: 0.7797 - val_loss: 0.3030 - val_iou_metric: 0.7169\n",
      "Epoch 48/50\n",
      "167/167 [==============================] - 29s 172ms/sample - loss: 0.2230 - iou_metric: 0.7868 - val_loss: 0.2990 - val_iou_metric: 0.7247\n",
      "Epoch 49/50\n",
      "167/167 [==============================] - 36s 215ms/sample - loss: 0.2254 - iou_metric: 0.7846 - val_loss: 0.3224 - val_iou_metric: 0.6999\n",
      "Epoch 50/50\n",
      "167/167 [==============================] - 30s 177ms/sample - loss: 0.2222 - iou_metric: 0.7877 - val_loss: 0.3068 - val_iou_metric: 0.7170\n"
     ]
    }
   ],
   "source": [
    "model.fit(x_train, y_train,\n",
    "          validation_data = (x_test, y_test),\n",
    "          epochs = 50, \n",
    "          batch_size =3\n",
    "         )\n",
    "\n",
    "model.save( 'model.h5' )"
   ]
  },
  {
   "cell_type": "code",
   "execution_count": 85,
   "metadata": {},
   "outputs": [],
   "source": [
    "!mkdir -v inference_images"
   ]
  },
  {
   "cell_type": "code",
   "execution_count": 93,
   "metadata": {
    "collapsed": true
   },
   "outputs": [
    {
     "name": "stdout",
     "output_type": "stream",
     "text": [
      "[ 21.709675  73.480995 192.96307  175.39508 ]\n",
      "[ 12.919448  55.20157  188.26834  159.54427 ]\n",
      "[ 23.72744  38.07049 198.56694 167.26326]\n",
      "[ 22.803608  47.63307  174.05794  180.01195 ]\n",
      "[ 13.0738    70.543594 199.25116  180.50168 ]\n",
      "[ 34.21758   60.136635 180.44727  165.52232 ]\n",
      "[ 53.695892  26.568632 173.53105  189.40585 ]\n",
      "[ 25.248367  36.618584 175.83492  157.97684 ]\n",
      "[ 41.92196  27.61482 166.17519 194.75533]\n",
      "[  7.3946576  42.43762   195.77031   182.79451  ]\n",
      "[ 32.0622   34.7135  205.96686 157.4669 ]\n",
      "[ 25.299051  40.987236 198.53769  189.40019 ]\n",
      "[ 38.298088  66.00753  151.2573   176.68599 ]\n",
      "[ 33.94955   55.118134 188.91434  159.00462 ]\n",
      "[ 30.7967   75.15745 195.80046 172.83195]\n",
      "[ 30.907898  23.016546 181.66924  182.8038  ]\n",
      "[ 34.814816  50.774178 155.98125  197.72162 ]\n",
      "[  8.440704  73.11122  207.66293  157.18407 ]\n",
      "[ -0.7434522  42.47475   215.3929    190.8309   ]\n"
     ]
    }
   ],
   "source": [
    "boxes = model.predict( x_test )\n",
    "\n",
    "for i in range( boxes.shape[0] ):\n",
    "    \n",
    "    b = boxes[i, 0 : 4] * input_dim\n",
    "    \n",
    "    print(b)\n",
    "    \n",
    "    img = x_test[i] * 255\n",
    "    \n",
    "    source_img = Image.fromarray( img.astype( np.uint8 ), 'RGB' )\n",
    "    \n",
    "    draw = ImageDraw.Draw( source_img )\n",
    "    \n",
    "    draw.rectangle( b, outline='black' )\n",
    "    \n",
    "    source_img.save( 'inference_images/image_{}.png'.format( i+1 ), 'png' )"
   ]
  },
  {
   "cell_type": "code",
   "execution_count": 111,
   "metadata": {
    "scrolled": false
   },
   "outputs": [
    {
     "data": {
      "text/plain": [
       "<tf.Tensor: id=14521, shape=(19,), dtype=int64, numpy=\n",
       "array([0, 1, 1, 1, 1, 0, 2, 1, 2, 0, 1, 1, 2, 1, 1, 1, 2, 0, 0],\n",
       "      dtype=int64)>"
      ]
     },
     "execution_count": 111,
     "metadata": {},
     "output_type": "execute_result"
    }
   ],
   "source": [
    "tf.argmax(model.predict(x_test)[:, 4:], axis=1)"
   ]
  },
  {
   "cell_type": "code",
   "execution_count": 115,
   "metadata": {
    "scrolled": true
   },
   "outputs": [
    {
     "data": {
      "text/plain": [
       "<tf.Tensor: id=14527, shape=(19,), dtype=int64, numpy=\n",
       "array([0, 1, 1, 1, 1, 0, 2, 2, 2, 0, 1, 1, 2, 1, 1, 1, 2, 0, 2],\n",
       "      dtype=int64)>"
      ]
     },
     "execution_count": 115,
     "metadata": {},
     "output_type": "execute_result"
    }
   ],
   "source": [
    "tf.argmax(y_test[:, 4:], axis=1)"
   ]
  },
  {
   "cell_type": "code",
   "execution_count": null,
   "metadata": {},
   "outputs": [],
   "source": []
  }
 ],
 "metadata": {
  "kernelspec": {
   "display_name": "TF2.0",
   "language": "python",
   "name": "tf"
  },
  "language_info": {
   "codemirror_mode": {
    "name": "ipython",
    "version": 3
   },
   "file_extension": ".py",
   "mimetype": "text/x-python",
   "name": "python",
   "nbconvert_exporter": "python",
   "pygments_lexer": "ipython3",
   "version": "3.6.10"
  }
 },
 "nbformat": 4,
 "nbformat_minor": 2
}
