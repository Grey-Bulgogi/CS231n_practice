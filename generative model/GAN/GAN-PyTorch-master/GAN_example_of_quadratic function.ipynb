{
 "cells": [
  {
   "cell_type": "markdown",
   "metadata": {},
   "source": [
    "### Libraries"
   ]
  },
  {
   "cell_type": "code",
   "execution_count": 1,
   "metadata": {
    "ExecuteTime": {
     "end_time": "2019-10-03T03:50:35.465458Z",
     "start_time": "2019-10-03T03:50:34.253808Z"
    }
   },
   "outputs": [],
   "source": [
    "import torch\n",
    "from torch import nn, optim\n",
    "from torch.autograd import Variable\n",
    "import numpy as np\n",
    "from numpy.random import randn\n",
    "from IPython.display import clear_output"
   ]
  },
  {
   "cell_type": "code",
   "execution_count": 2,
   "metadata": {
    "ExecuteTime": {
     "end_time": "2019-10-03T03:50:35.470345Z",
     "start_time": "2019-10-03T03:50:35.467271Z"
    }
   },
   "outputs": [],
   "source": [
    "matplotlib_is_available = True\n",
    "try:\n",
    "    from matplotlib import pyplot as plt\n",
    "except ImportError:\n",
    "    print(\"Will skip plotting; matplotlib is not available.\")\n",
    "    matplotlib_is_available = False"
   ]
  },
  {
   "cell_type": "code",
   "execution_count": 3,
   "metadata": {
    "ExecuteTime": {
     "end_time": "2019-10-03T03:50:35.543150Z",
     "start_time": "2019-10-03T03:50:35.472710Z"
    },
    "scrolled": true
   },
   "outputs": [
    {
     "name": "stdout",
     "output_type": "stream",
     "text": [
      "Using cpu for computation\n"
     ]
    }
   ],
   "source": [
    "use_cuda = torch.cuda.is_available()\n",
    "device = torch.device('cuda' if use_cuda else 'cpu')\n",
    "print(\"Using %s for computation\" % device)"
   ]
  },
  {
   "cell_type": "code",
   "execution_count": 4,
   "metadata": {
    "ExecuteTime": {
     "end_time": "2019-10-03T03:50:35.555611Z",
     "start_time": "2019-10-03T03:50:35.544739Z"
    }
   },
   "outputs": [],
   "source": [
    "resources = \"resources/\"\n",
    "models = \"models/\""
   ]
  },
  {
   "cell_type": "code",
   "execution_count": 5,
   "metadata": {
    "ExecuteTime": {
     "end_time": "2019-10-03T03:50:35.570313Z",
     "start_time": "2019-10-03T03:50:35.557725Z"
    }
   },
   "outputs": [],
   "source": [
    "# Define the function that produces the real data\n",
    "def real_fn(x):\n",
    "    return x*x + 3*x + 2\n",
    "\n",
    "def get_real_samples(n=5000, scale=50):\n",
    "    data = []\n",
    "    x = scale * randn(n)\n",
    "\n",
    "    for i in range(n):\n",
    "        y = real_fn(x[i])\n",
    "        data.append([x[i], y])\n",
    "\n",
    "    return torch.FloatTensor(data)"
   ]
  },
  {
   "cell_type": "code",
   "execution_count": 6,
   "metadata": {
    "ExecuteTime": {
     "end_time": "2019-10-03T03:52:32.251952Z",
     "start_time": "2019-10-03T03:52:32.247655Z"
    }
   },
   "outputs": [],
   "source": [
    "# Noise that is given as input to the generator\n",
    "def noise_data(n=5000, elements=5):\n",
    "    return torch.randn(size=[n, elements])"
   ]
  },
  {
   "cell_type": "code",
   "execution_count": 7,
   "metadata": {
    "ExecuteTime": {
     "end_time": "2019-10-03T03:52:41.385362Z",
     "start_time": "2019-10-03T03:52:41.348484Z"
    },
    "scrolled": false
   },
   "outputs": [
    {
     "data": {
      "text/plain": [
       "tensor([[ 0.2140,  0.1815,  0.5192, -0.0365, -0.8538],\n",
       "        [-0.2497, -0.1574,  0.5023,  1.3716,  0.3514],\n",
       "        [-0.7546, -0.4950, -2.4950, -0.6328, -1.0958],\n",
       "        [ 0.7529,  0.6324,  0.1139,  0.2760,  0.8399],\n",
       "        [ 1.3619, -0.8498,  0.7835, -0.1047, -0.2964]])"
      ]
     },
     "execution_count": 7,
     "metadata": {},
     "output_type": "execute_result"
    }
   ],
   "source": [
    "noise_data(5)"
   ]
  },
  {
   "cell_type": "markdown",
   "metadata": {},
   "source": [
    "### GAN Generator"
   ]
  },
  {
   "cell_type": "code",
   "execution_count": 10,
   "metadata": {
    "ExecuteTime": {
     "end_time": "2019-10-03T03:50:35.620254Z",
     "start_time": "2019-10-03T03:50:35.586430Z"
    }
   },
   "outputs": [],
   "source": [
    "class Generator(nn.Module):\n",
    "    def __init__(self, input_len=5, hidden_len=16, output_len=2):\n",
    "        super(Generator, self).__init__()\n",
    "\n",
    "        self.layer1 = nn.Sequential(\n",
    "            nn.Linear(input_len, hidden_len),\n",
    "            nn.ReLU()\n",
    "        )\n",
    "        self.layer2 = nn.Sequential(\n",
    "            nn.Linear(hidden_len, hidden_len),\n",
    "            nn.ReLU()\n",
    "        )\n",
    "        self.layer3 = nn.Sequential(\n",
    "            nn.Linear(hidden_len, output_len)\n",
    "        )\n",
    "\n",
    "    def forward(self, x):\n",
    "        x = self.layer1(x)\n",
    "        x = self.layer2(x)\n",
    "        x = self.layer3(x)\n",
    "        return x\n",
    "\n",
    "generator = Generator()"
   ]
  },
  {
   "cell_type": "code",
   "execution_count": 11,
   "metadata": {
    "ExecuteTime": {
     "end_time": "2019-10-03T03:50:35.630939Z",
     "start_time": "2019-10-03T03:50:35.622714Z"
    }
   },
   "outputs": [],
   "source": [
    "class Discriminator(nn.Module):\n",
    "    def __init__(self, input_len=2, hidden_len=16, output_len=1):\n",
    "        super(Discriminator, self).__init__()\n",
    "    \n",
    "        # ENCODING\n",
    "        self.layer1 = nn.Sequential(\n",
    "            nn.Linear(input_len, hidden_len),\n",
    "            nn.LeakyReLU(0.2),\n",
    "            nn.Dropout(0.3)\n",
    "        )\n",
    "        self.layer2 = nn.Sequential(\n",
    "            nn.Linear(hidden_len, hidden_len),\n",
    "            nn.LeakyReLU(0.2),\n",
    "            nn.Dropout(0.3)\n",
    "        )\n",
    "        \n",
    "        # DECODING\n",
    "        self.layer3 = nn.Sequential(\n",
    "            nn.Linear(hidden_len, output_len),\n",
    "            nn.Sigmoid()\n",
    "        )\n",
    "\n",
    "    def forward(self, x):\n",
    "        x = self.layer1(x)\n",
    "        x = self.layer2(x)\n",
    "        x = self.layer3(x)\n",
    "        return x\n",
    "\n",
    "discriminator = Discriminator()"
   ]
  },
  {
   "cell_type": "code",
   "execution_count": 12,
   "metadata": {
    "ExecuteTime": {
     "end_time": "2019-10-03T03:50:35.645203Z",
     "start_time": "2019-10-03T03:50:35.632738Z"
    }
   },
   "outputs": [],
   "source": [
    "d_lr = 1e-3\n",
    "g_lr = 1e-3\n",
    "d_optimizer = optim.Adam(discriminator.parameters(), lr=d_lr)\n",
    "g_optimizer = optim.Adam(generator.parameters(), lr=g_lr)\n",
    "loss = nn.BCELoss()"
   ]
  },
  {
   "cell_type": "code",
   "execution_count": 10,
   "metadata": {
    "ExecuteTime": {
     "end_time": "2019-10-03T03:50:35.658654Z",
     "start_time": "2019-10-03T03:50:35.646614Z"
    }
   },
   "outputs": [],
   "source": [
    "# Load the pre trained weights\n",
    "# generator.load_state_dict(torch.load(models+'generator.pth'))\n",
    "# discriminator.load_state_dict(torch.load(models+'discriminator.pth'))\n",
    "# g_optimizer.load_state_dict(torch.load(models+'g_optimizer.pth'))\n",
    "# d_optimizer.load_state_dict(torch.load(models+'d_optimizer.pth'))"
   ]
  },
  {
   "cell_type": "code",
   "execution_count": 27,
   "metadata": {
    "ExecuteTime": {
     "end_time": "2019-10-03T03:50:35.672507Z",
     "start_time": "2019-10-03T03:50:35.660093Z"
    }
   },
   "outputs": [],
   "source": [
    "dtype = torch.FloatTensor\n",
    "def ones_target(size):\n",
    "#     Instead of having 1 as the target, one-sided label smoothing replaces the target witth 0.9 \n",
    "#     data = Variable(torch.ones(size, 1).type(dtype))\n",
    "    data = Variable(torch.Tensor(size, 1).fill_(0.9).type(dtype))#, requires_grad = True)\n",
    "    return data\n",
    "\n",
    "def zeros_target(size):\n",
    "    data = Variable(torch.zeros(size, 1).type(dtype))\n",
    "    return data"
   ]
  },
  {
   "cell_type": "code",
   "execution_count": 32,
   "metadata": {
    "ExecuteTime": {
     "end_time": "2019-10-03T03:50:35.691362Z",
     "start_time": "2019-10-03T03:50:35.674202Z"
    }
   },
   "outputs": [],
   "source": [
    "def train_discriminator(optimizer, real_data, generated_data):\n",
    "    N = real_data.size(0)\n",
    "    optimizer.zero_grad()\n",
    "    \n",
    "#     Train the discriminator on the real data\n",
    "    prediction_real = discriminator(real_data)\n",
    "    error_real = loss(prediction_real, ones_target(N))\n",
    "    error_real.backward()\n",
    "    \n",
    "#     Now train it on the generated data\n",
    "    prediction_generated = discriminator(generated_data)\n",
    "    error_generated = loss(prediction_generated, zeros_target(N))\n",
    "    error_generated.backward()\n",
    "\n",
    "    optimizer.step()\n",
    "\n",
    "    return error_real + error_generated, prediction_real, prediction_generated"
   ]
  },
  {
   "cell_type": "code",
   "execution_count": 33,
   "metadata": {
    "ExecuteTime": {
     "end_time": "2019-10-03T03:50:35.705337Z",
     "start_time": "2019-10-03T03:50:35.692900Z"
    }
   },
   "outputs": [],
   "source": [
    "def train_generator(optimizer, generated_data):\n",
    "    N = generated_data.size(0)\n",
    "    optimizer.zero_grad()\n",
    "    \n",
    "#     Run the generated data through the discriminator\n",
    "    prediction = discriminator(generated_data)\n",
    "\n",
    "#     Train the generator with the flipped targets, i.e. the target is 0.9\n",
    "    error = loss(prediction, ones_target(N))\n",
    "    error.backward()\n",
    "\n",
    "    optimizer.step()\n",
    "\n",
    "    return error"
   ]
  },
  {
   "cell_type": "code",
   "execution_count": 34,
   "metadata": {
    "ExecuteTime": {
     "end_time": "2019-10-03T03:50:42.498225Z",
     "start_time": "2019-10-03T03:50:35.706832Z"
    }
   },
   "outputs": [],
   "source": [
    "num_test_samples = 256\n",
    "discriminator_steps = 20\n",
    "generator_steps = 20\n",
    "num_epochs = 5000\n",
    "printing_epoch = 100\n",
    "# Move the model to the GPU if available\n",
    "discriminator.to(device)\n",
    "generator.to(device)\n",
    "d_losses = []\n",
    "g_losses = []"
   ]
  },
  {
   "cell_type": "code",
   "execution_count": 35,
   "metadata": {
    "ExecuteTime": {
     "end_time": "2019-10-03T04:06:57.412593Z",
     "start_time": "2019-10-03T04:06:57.404801Z"
    }
   },
   "outputs": [],
   "source": [
    "def current_status(real, generated, epoch):\n",
    "    x, y = zip(*generated.tolist())\n",
    "    plt.scatter(x, y, label='Generated Data')\n",
    "    x, y = zip(*real.tolist())\n",
    "    plt.scatter(x, y, label='Real Data')\n",
    "    plt.legend(loc='upper right')\n",
    "    plt.xlabel(\"input\")\n",
    "    plt.title(\"Comparsion of Real vs Generated Data - Epoch %s\" %epoch)\n",
    "    n=str(epoch).zfill(4)\n",
    "    save_location = resources+ 'outputs/epoch-%s.png' %n\n",
    "    plt.savefig(save_location, bbox_inches='tight')\n",
    "    plt.show()\n",
    "\n",
    "def plot_losses(disc, gene):\n",
    "    plt.plot(disc, label='Discriminator Loss')\n",
    "    plt.plot(gene, label='Generator Loss')\n",
    "    plt.legend(loc='upper right')\n",
    "    plt.xlabel(\"Epoch\")\n",
    "    plt.ylabel(\"Loss\")\n",
    "    plt.title(\"Discriminator and Generator Loss\")\n",
    "    save_location = resources+ 'loss.png'\n",
    "    plt.savefig(save_location, bbox_inches='tight')\n",
    "    plt.show()"
   ]
  },
  {
   "cell_type": "code",
   "execution_count": null,
   "metadata": {
    "ExecuteTime": {
     "end_time": "2019-10-03T04:02:38.271571Z",
     "start_time": "2019-10-03T03:54:00.363516Z"
    },
    "scrolled": false
   },
   "outputs": [
    {
     "name": "stdout",
     "output_type": "stream",
     "text": [
      "Epoch\n",
      "4200\n",
      "Discriminator Loss:\n",
      "1.3752416372299194\n",
      "Generator Loss:\n",
      "0.779265820980072\n"
     ]
    },
    {
     "data": {
      "image/png": "[encoded data removed]",
      "text/plain": [
       "<Figure size 432x288 with 1 Axes>"
      ]
     },
     "metadata": {
      "needs_background": "light"
     },
     "output_type": "display_data"
    }
   ],
   "source": [
    "# Set the models to training mode\n",
    "discriminator.train()\n",
    "generator.train()\n",
    "\n",
    "for epoch in range(num_epochs):\n",
    "    real_data = None\n",
    "    generated_data = None\n",
    "    \n",
    "    for d_steps in range(discriminator_steps):\n",
    "        real_data = get_real_samples(n=num_test_samples)\n",
    "        generator_input = noise_data(n=num_test_samples)\n",
    "        generator_input = generator_input.to(device)\n",
    "        \n",
    "#         Dont calculate gradients for this\n",
    "        generated_data = generator(generator_input).detach()\n",
    "    \n",
    "        generated_data = generated_data.to(device)\n",
    "        real_data = real_data.to(device)\n",
    "        \n",
    "        d_error, d_pred_real, d_pred_generated = \\\n",
    "            train_discriminator(d_optimizer, real_data, generated_data)\n",
    "        d_losses.append(d_error.item())\n",
    "    \n",
    "    for g_steps in range(generator_steps):\n",
    "        generator_input = noise_data(n=num_test_samples)\n",
    "        generator_input = generator_input.to(device)\n",
    "        \n",
    "        generated_data = generator(generator_input)\n",
    "        \n",
    "        g_error = train_generator(g_optimizer, generated_data)\n",
    "        g_losses.append(g_error.item())\n",
    "    \n",
    "    if(epoch % printing_epoch == 0):\n",
    "        clear_output()\n",
    "        print(\"Epoch\")\n",
    "        print(epoch)\n",
    "        print(\"Discriminator Loss:\")\n",
    "        print(d_error.item())\n",
    "        print(\"Generator Loss:\")\n",
    "        print(g_error.item())\n",
    "        current_status(real_data, generated_data, epoch)"
   ]
  },
  {
   "cell_type": "code",
   "execution_count": 22,
   "metadata": {
    "ExecuteTime": {
     "end_time": "2019-10-03T04:02:49.475618Z",
     "start_time": "2019-10-03T04:02:49.458645Z"
    }
   },
   "outputs": [],
   "source": [
    "# Save the models to disk to be loaded later if neccesary\n",
    "torch.save(generator.state_dict(), models+'generator.pth')\n",
    "torch.save(discriminator.state_dict(), models+'discriminator.pth')\n",
    "torch.save(g_optimizer.state_dict(), models+'g_optimizer.pth')\n",
    "torch.save(d_optimizer.state_dict(), models+'d_optimizer.pth')"
   ]
  },
  {
   "cell_type": "code",
   "execution_count": 23,
   "metadata": {
    "ExecuteTime": {
     "end_time": "2019-10-03T04:02:51.944024Z",
     "start_time": "2019-10-03T04:02:51.528853Z"
    },
    "scrolled": true
   },
   "outputs": [
    {
     "data": {
      "image/png": "[encoded data removed]",
      "text/plain": [
       "<Figure size 432x288 with 1 Axes>"
      ]
     },
     "metadata": {
      "needs_background": "dark"
     },
     "output_type": "display_data"
    }
   ],
   "source": [
    "plot_losses(d_losses, g_losses)"
   ]
  },
  {
   "cell_type": "code",
   "execution_count": 24,
   "metadata": {
    "ExecuteTime": {
     "end_time": "2019-10-03T04:04:30.585321Z",
     "start_time": "2019-10-03T04:04:26.710330Z"
    }
   },
   "outputs": [],
   "source": [
    "# To produce a gif from the output images saved to disk. You have to install imagemagick\n",
    "! convert -resize 80% -delay 10 -loop 0 resources/outputs/*.png resources/outputs/output.gif"
   ]
  }
 ],
 "metadata": {
  "kernelspec": {
   "display_name": "torch",
   "language": "python",
   "name": "torch"
  },
  "language_info": {
   "codemirror_mode": {
    "name": "ipython",
    "version": 3
   },
   "file_extension": ".py",
   "mimetype": "text/x-python",
   "name": "python",
   "nbconvert_exporter": "python",
   "pygments_lexer": "ipython3",
   "version": "3.7.7"
  },
  "toc": {
   "base_numbering": 1,
   "nav_menu": {},
   "number_sections": true,
   "sideBar": true,
   "skip_h1_title": false,
   "title_cell": "Table of Contents",
   "title_sidebar": "Contents",
   "toc_cell": false,
   "toc_position": {},
   "toc_section_display": true,
   "toc_window_display": false
  }
 },
 "nbformat": 4,
 "nbformat_minor": 2
}
