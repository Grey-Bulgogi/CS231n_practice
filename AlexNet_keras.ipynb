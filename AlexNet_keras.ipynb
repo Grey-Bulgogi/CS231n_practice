{
 "cells": [
  {
   "cell_type": "code",
   "execution_count": 1,
   "metadata": {},
   "outputs": [],
   "source": [
    "import tensorflow as tf\n",
    "from tensorflow.keras import datasets, layers, models"
   ]
  },
  {
   "cell_type": "markdown",
   "metadata": {},
   "source": [
    "### tf.keras와 tf.nn을 같이 sequential에서는 사용할 수 없음\n",
    "### 따라서 예전 방법인 tf.nn을 이용해서 만들어야할듯"
   ]
  },
  {
   "cell_type": "code",
   "execution_count": 2,
   "metadata": {},
   "outputs": [
    {
     "ename": "TypeError",
     "evalue": "lrn() missing 1 required positional argument: 'input'",
     "output_type": "error",
     "traceback": [
      "\u001b[1;31m---------------------------------------------------------------------------\u001b[0m",
      "\u001b[1;31mTypeError\u001b[0m                                 Traceback (most recent call last)",
      "\u001b[1;32m<ipython-input-2-7b3825e1ef59>\u001b[0m in \u001b[0;36m<module>\u001b[1;34m\u001b[0m\n\u001b[0;32m      2\u001b[0m model.add(layers.Conv2D(filters = 96, kernel_size=(11,11), strides=4,\n\u001b[0;32m      3\u001b[0m                         activation='relu', input_shape=(256, 256, 3)))\n\u001b[1;32m----> 4\u001b[1;33m \u001b[0mmodel\u001b[0m\u001b[1;33m.\u001b[0m\u001b[0madd\u001b[0m\u001b[1;33m(\u001b[0m\u001b[0mtf\u001b[0m\u001b[1;33m.\u001b[0m\u001b[0mnn\u001b[0m\u001b[1;33m.\u001b[0m\u001b[0mlocal_response_normalization\u001b[0m\u001b[1;33m(\u001b[0m\u001b[0mdepth_radius\u001b[0m\u001b[1;33m=\u001b[0m\u001b[1;36m5\u001b[0m\u001b[1;33m,\u001b[0m \u001b[0malpha\u001b[0m\u001b[1;33m=\u001b[0m\u001b[1;36m0.001\u001b[0m\u001b[1;33m,\u001b[0m \u001b[0mbeta\u001b[0m\u001b[1;33m=\u001b[0m\u001b[1;36m0.75\u001b[0m\u001b[1;33m,\u001b[0m \u001b[0mbias\u001b[0m\u001b[1;33m=\u001b[0m\u001b[1;36m2\u001b[0m\u001b[1;33m)\u001b[0m\u001b[1;33m)\u001b[0m\u001b[1;33m\u001b[0m\u001b[0m\n\u001b[0m\u001b[0;32m      5\u001b[0m \u001b[0mmodel\u001b[0m\u001b[1;33m.\u001b[0m\u001b[0madd\u001b[0m\u001b[1;33m(\u001b[0m\u001b[0mlayers\u001b[0m\u001b[1;33m.\u001b[0m\u001b[0mMaxPool2D\u001b[0m\u001b[1;33m(\u001b[0m\u001b[0mkernel_size\u001b[0m\u001b[1;33m=\u001b[0m\u001b[1;36m3\u001b[0m\u001b[1;33m,\u001b[0m \u001b[0mstrides\u001b[0m\u001b[1;33m=\u001b[0m\u001b[1;36m2\u001b[0m\u001b[1;33m)\u001b[0m\u001b[1;33m)\u001b[0m\u001b[1;33m\u001b[0m\u001b[0m\n\u001b[0;32m      6\u001b[0m \u001b[1;33m\u001b[0m\u001b[0m\n",
      "\u001b[1;31mTypeError\u001b[0m: lrn() missing 1 required positional argument: 'input'"
     ]
    }
   ],
   "source": [
    "model = models.Sequential()\n",
    "model.add(layers.Conv2D(filters = 96, kernel_size=(11,11), strides=4,\n",
    "                        activation='relu', input_shape=(256, 256, 3)))\n",
    "model.add(tf.nn.local_response_normalization(depth_radius=5, alpha=0.001, beta=0.75, bias=2))\n",
    "model.add(layers.MaxPool2D(kernel_size=3, strides=2))\n",
    "\n",
    "model.add(layers.Conv2D(256, (5,5), stride=4, activation='relu'))\n",
    "model.add(tf.nn.local_response_normalization(depth_radius=5, alpha=0.001, beta=0.75, bias=2))\n",
    "model.add(layers.MaxPool2D(kernel_size=3, strides=2))\n",
    "\n",
    "model.add(layers.Conv2D(384, (3,3), padding='valid', activation='relu'))\n",
    "\n",
    "model.add(layers.Conv2D(384, (3,3), padding='valid', activation='relu'))\n",
    "\n",
    "model.add(layers.Conv2D(256, (3,3), padding='valid', activation='relu'))"
   ]
  },
  {
   "cell_type": "code",
   "execution_count": null,
   "metadata": {},
   "outputs": [],
   "source": []
  }
 ],
 "metadata": {
  "kernelspec": {
   "display_name": "tensorflow2",
   "language": "python",
   "name": "tensorflow2"
  }
 },
 "nbformat": 4,
 "nbformat_minor": 2
}
